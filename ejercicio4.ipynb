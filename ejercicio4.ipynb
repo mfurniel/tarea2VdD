{
 "cells": [
  {
   "cell_type": "code",
   "execution_count": 181,
   "metadata": {},
   "outputs": [],
   "source": [
    "import matplotlib.pyplot as plt\n",
    "import matplotlib.patches as mpatches\n",
    "import pandas as pd\n",
    "import numpy as np\n"
   ]
  },
  {
   "cell_type": "code",
   "execution_count": 182,
   "metadata": {},
   "outputs": [
    {
     "data": {
      "text/html": [
       "<div>\n",
       "<style scoped>\n",
       "    .dataframe tbody tr th:only-of-type {\n",
       "        vertical-align: middle;\n",
       "    }\n",
       "\n",
       "    .dataframe tbody tr th {\n",
       "        vertical-align: top;\n",
       "    }\n",
       "\n",
       "    .dataframe thead th {\n",
       "        text-align: right;\n",
       "    }\n",
       "</style>\n",
       "<table border=\"1\" class=\"dataframe\">\n",
       "  <thead>\n",
       "    <tr style=\"text-align: right;\">\n",
       "      <th></th>\n",
       "      <th>2010</th>\n",
       "    </tr>\n",
       "    <tr>\n",
       "      <th>Country</th>\n",
       "      <th></th>\n",
       "    </tr>\n",
       "  </thead>\n",
       "  <tbody>\n",
       "    <tr>\n",
       "      <th>Argentina</th>\n",
       "      <td>5387</td>\n",
       "    </tr>\n",
       "    <tr>\n",
       "      <th>Bolivia</th>\n",
       "      <td>7423</td>\n",
       "    </tr>\n",
       "    <tr>\n",
       "      <th>Brazil</th>\n",
       "      <td>1818</td>\n",
       "    </tr>\n",
       "    <tr>\n",
       "      <th>Colombia</th>\n",
       "      <td>8921</td>\n",
       "    </tr>\n",
       "    <tr>\n",
       "      <th>Ecuador</th>\n",
       "      <td>3624</td>\n",
       "    </tr>\n",
       "    <tr>\n",
       "      <th>Guyana</th>\n",
       "      <td>2</td>\n",
       "    </tr>\n",
       "    <tr>\n",
       "      <th>Paraguay</th>\n",
       "      <td>889</td>\n",
       "    </tr>\n",
       "    <tr>\n",
       "      <th>Peru</th>\n",
       "      <td>38048</td>\n",
       "    </tr>\n",
       "    <tr>\n",
       "      <th>Suriname</th>\n",
       "      <td>1</td>\n",
       "    </tr>\n",
       "    <tr>\n",
       "      <th>Uruguay</th>\n",
       "      <td>1190</td>\n",
       "    </tr>\n",
       "    <tr>\n",
       "      <th>Venezuela</th>\n",
       "      <td>1091</td>\n",
       "    </tr>\n",
       "  </tbody>\n",
       "</table>\n",
       "</div>"
      ],
      "text/plain": [
       "            2010\n",
       "Country         \n",
       "Argentina   5387\n",
       "Bolivia     7423\n",
       "Brazil      1818\n",
       "Colombia    8921\n",
       "Ecuador     3624\n",
       "Guyana         2\n",
       "Paraguay     889\n",
       "Peru       38048\n",
       "Suriname       1\n",
       "Uruguay     1190\n",
       "Venezuela   1091"
      ]
     },
     "execution_count": 182,
     "metadata": {},
     "output_type": "execute_result"
    }
   ],
   "source": [
    "data = pd.read_excel('datasets/MigrantesChile (2005-2016).xlsx')\n",
    "selected_rows = data[data[\"Continent\"] == 'America']\n",
    "#selected_columns = selected_rows[[\"ID Continent\", \"Continent\", \"ID Country\",\"Country\",2010]]\n",
    "selected_columns = selected_rows[[\"Country\",2010]]\n",
    "filtered_data = selected_columns[selected_rows['Country'].isin(['Argentina', 'Bolivia', 'Brazil', 'Chile', 'Colombia', 'Ecuador', 'Guyana', 'Paraguay', 'Peru', 'Suriname', 'Uruguay', 'Venezuela'])]\n",
    "filtered_data.set_index('Country', inplace=True)\n",
    "filtered_data"
   ]
  },
  {
   "cell_type": "code",
   "execution_count": 183,
   "metadata": {},
   "outputs": [
    {
     "name": "stdout",
     "output_type": "stream",
     "text": [
      "Argentina: 0.07876421908354533\n",
      "Bolivia: 0.10853291224376407\n",
      "Brazil: 0.02658127905956663\n",
      "Colombia: 0.13043541831154778\n",
      "Ecuador: 0.052987104131941395\n",
      "Guyana: 2.9242331198643156e-05\n",
      "Paraguay: 0.012998216217796883\n",
      "Peru: 0.5563061087229874\n",
      "Suriname: 1.4621165599321578e-05\n",
      "Uruguay: 0.017399187063192677\n",
      "Venezuela: 0.015951691668859843\n"
     ]
    }
   ],
   "source": [
    "total_values = sum(filtered_data[2010])\n",
    "category_proportions = [(float(value) / total_values) for value in filtered_data[2010]]\n",
    "for i, proportion in enumerate(category_proportions):\n",
    "    print (filtered_data.index.values[i] + ': ' + str(proportion))"
   ]
  },
  {
   "cell_type": "code",
   "execution_count": 184,
   "metadata": {},
   "outputs": [
    {
     "name": "stdout",
     "output_type": "stream",
     "text": [
      "Número total de celdas:  400\n"
     ]
    }
   ],
   "source": [
    "width = 40 # ancho del of chart\n",
    "height = 10 # altura del chart\n",
    "\n",
    "total_num_tiles = width * height # número total de celdas\n",
    "\n",
    "print ('Número total de celdas: ', total_num_tiles)"
   ]
  },
  {
   "cell_type": "code",
   "execution_count": 185,
   "metadata": {},
   "outputs": [
    {
     "name": "stdout",
     "output_type": "stream",
     "text": [
      "Argentina: 32\n",
      "Bolivia: 43\n",
      "Brazil: 11\n",
      "Colombia: 52\n",
      "Ecuador: 21\n",
      "Guyana: 0\n",
      "Paraguay: 5\n",
      "Peru: 223\n",
      "Suriname: 0\n",
      "Uruguay: 7\n",
      "Venezuela: 6\n"
     ]
    }
   ],
   "source": [
    "# calcula la cantidad de celdas por categoría\n",
    "tiles_per_category = [round(proportion * total_num_tiles) for proportion in category_proportions]\n",
    "\n",
    "# imprime número de celdas por categoría\n",
    "for i, tiles in enumerate(tiles_per_category):\n",
    "    print (filtered_data.index.values[i] + ': ' + str(tiles))"
   ]
  },
  {
   "cell_type": "code",
   "execution_count": 186,
   "metadata": {},
   "outputs": [
    {
     "name": "stdout",
     "output_type": "stream",
     "text": [
      "Waffle chart populated!\n"
     ]
    }
   ],
   "source": [
    "# inicializa el waffle chart como una matriz vacía\n",
    "waffle_chart = np.zeros((height, width))\n",
    "\n",
    "# índices que recorren la estructura\n",
    "category_index = 0\n",
    "tile_index = 0\n",
    "\n",
    "# poblar el waffle chart\n",
    "for col in range(width):\n",
    "    for row in range(height):\n",
    "        tile_index += 1\n",
    "\n",
    "        # si el número de celdas para la categoría actual es igual a las celdas asignadas...\n",
    "        if tile_index > sum(tiles_per_category[0:category_index]):\n",
    "            # ...se continúa con la siguiente categoría\n",
    "            category_index += 1       \n",
    "            \n",
    "        # Se asigna el valor de la categoría actual a las coordenadas row,col\n",
    "        waffle_chart[row, col] = category_index\n",
    "        \n",
    "print ('Waffle chart populated!')"
   ]
  },
  {
   "cell_type": "code",
   "execution_count": 187,
   "metadata": {},
   "outputs": [
    {
     "data": {
      "text/plain": [
       "array([[ 1.,  1.,  1.,  1.,  2.,  2.,  2.,  2.,  3.,  4.,  4.,  4.,  4.,\n",
       "         4.,  5.,  5.,  7.,  8.,  8.,  8.,  8.,  8.,  8.,  8.,  8.,  8.,\n",
       "         8.,  8.,  8.,  8.,  8.,  8.,  8.,  8.,  8.,  8.,  8.,  8.,  8.,\n",
       "        10.],\n",
       "       [ 1.,  1.,  1.,  1.,  2.,  2.,  2.,  2.,  3.,  4.,  4.,  4.,  4.,\n",
       "         4.,  5.,  5.,  7.,  8.,  8.,  8.,  8.,  8.,  8.,  8.,  8.,  8.,\n",
       "         8.,  8.,  8.,  8.,  8.,  8.,  8.,  8.,  8.,  8.,  8.,  8.,  8.,\n",
       "        10.],\n",
       "       [ 1.,  1.,  1.,  2.,  2.,  2.,  2.,  2.,  3.,  4.,  4.,  4.,  4.,\n",
       "         4.,  5.,  5.,  7.,  8.,  8.,  8.,  8.,  8.,  8.,  8.,  8.,  8.,\n",
       "         8.,  8.,  8.,  8.,  8.,  8.,  8.,  8.,  8.,  8.,  8.,  8.,  8.,\n",
       "        10.],\n",
       "       [ 1.,  1.,  1.,  2.,  2.,  2.,  2.,  2.,  3.,  4.,  4.,  4.,  4.,\n",
       "         4.,  5.,  5.,  7.,  8.,  8.,  8.,  8.,  8.,  8.,  8.,  8.,  8.,\n",
       "         8.,  8.,  8.,  8.,  8.,  8.,  8.,  8.,  8.,  8.,  8.,  8.,  8.,\n",
       "        10.],\n",
       "       [ 1.,  1.,  1.,  2.,  2.,  2.,  2.,  2.,  3.,  4.,  4.,  4.,  4.,\n",
       "         4.,  5.,  5.,  8.,  8.,  8.,  8.,  8.,  8.,  8.,  8.,  8.,  8.,\n",
       "         8.,  8.,  8.,  8.,  8.,  8.,  8.,  8.,  8.,  8.,  8.,  8.,  8.,\n",
       "        11.],\n",
       "       [ 1.,  1.,  1.,  2.,  2.,  2.,  2.,  3.,  3.,  4.,  4.,  4.,  4.,\n",
       "         4.,  5.,  5.,  8.,  8.,  8.,  8.,  8.,  8.,  8.,  8.,  8.,  8.,\n",
       "         8.,  8.,  8.,  8.,  8.,  8.,  8.,  8.,  8.,  8.,  8.,  8.,  8.,\n",
       "        11.],\n",
       "       [ 1.,  1.,  1.,  2.,  2.,  2.,  2.,  3.,  4.,  4.,  4.,  4.,  4.,\n",
       "         4.,  5.,  5.,  8.,  8.,  8.,  8.,  8.,  8.,  8.,  8.,  8.,  8.,\n",
       "         8.,  8.,  8.,  8.,  8.,  8.,  8.,  8.,  8.,  8.,  8.,  8.,  8.,\n",
       "        11.],\n",
       "       [ 1.,  1.,  1.,  2.,  2.,  2.,  2.,  3.,  4.,  4.,  4.,  4.,  4.,\n",
       "         4.,  5.,  5.,  8.,  8.,  8.,  8.,  8.,  8.,  8.,  8.,  8.,  8.,\n",
       "         8.,  8.,  8.,  8.,  8.,  8.,  8.,  8.,  8.,  8.,  8.,  8.,  9.,\n",
       "        11.],\n",
       "       [ 1.,  1.,  1.,  2.,  2.,  2.,  2.,  3.,  4.,  4.,  4.,  4.,  4.,\n",
       "         5.,  5.,  5.,  8.,  8.,  8.,  8.,  8.,  8.,  8.,  8.,  8.,  8.,\n",
       "         8.,  8.,  8.,  8.,  8.,  8.,  8.,  8.,  8.,  8.,  8.,  8., 10.,\n",
       "        11.],\n",
       "       [ 1.,  1.,  1.,  2.,  2.,  2.,  2.,  3.,  4.,  4.,  4.,  4.,  4.,\n",
       "         5.,  5.,  6.,  8.,  8.,  8.,  8.,  8.,  8.,  8.,  8.,  8.,  8.,\n",
       "         8.,  8.,  8.,  8.,  8.,  8.,  8.,  8.,  8.,  8.,  8.,  8., 10.,\n",
       "        11.]])"
      ]
     },
     "execution_count": 187,
     "metadata": {},
     "output_type": "execute_result"
    }
   ],
   "source": [
    "waffle_chart"
   ]
  },
  {
   "cell_type": "code",
   "execution_count": 188,
   "metadata": {},
   "outputs": [
    {
     "data": {
      "text/plain": [
       "<matplotlib.colorbar.Colorbar at 0x2d5698aae60>"
      ]
     },
     "execution_count": 188,
     "metadata": {},
     "output_type": "execute_result"
    },
    {
     "data": {
      "text/plain": [
       "<Figure size 640x480 with 0 Axes>"
      ]
     },
     "metadata": {},
     "output_type": "display_data"
    },
    {
     "data": {
      "image/png": "[encoded data removed]",
      "text/plain": [
       "<Figure size 1600x400 with 2 Axes>"
      ]
     },
     "metadata": {},
     "output_type": "display_data"
    }
   ],
   "source": [
    "# se crea un nuevo objeto figura\n",
    "fig = plt.figure()\n",
    "\n",
    "# matwhow para desplegar el waffle chart\n",
    "colormap = plt.cm.coolwarm\n",
    "plt.matshow(waffle_chart, cmap=colormap)\n",
    "plt.colorbar()"
   ]
  },
  {
   "cell_type": "code",
   "execution_count": 189,
   "metadata": {},
   "outputs": [
    {
     "data": {
      "text/plain": [
       "([], [])"
      ]
     },
     "execution_count": 189,
     "metadata": {},
     "output_type": "execute_result"
    },
    {
     "data": {
      "text/plain": [
       "<Figure size 640x480 with 0 Axes>"
      ]
     },
     "metadata": {},
     "output_type": "display_data"
    },
    {
     "data": {
      "image/png": "[encoded data removed]",
      "text/plain": [
       "<Figure size 1600x400 with 1 Axes>"
      ]
     },
     "metadata": {},
     "output_type": "display_data"
    }
   ],
   "source": [
    "fig = plt.figure()\n",
    "\n",
    "colormap = plt.cm.coolwarm\n",
    "plt.matshow(waffle_chart, cmap=colormap)\n",
    "\n",
    "\n",
    "# se obtienen los ejes de la gráfica\n",
    "ax = plt.gca()\n",
    "\n",
    "# se setean los ticks menores de cada eje\n",
    "ax.set_xticks(np.arange(-.5, (width), 1), minor=True)\n",
    "ax.set_yticks(np.arange(-.5, (height), 1), minor=True)\n",
    "    \n",
    "# se añaden líneas de grilla de acuerdo a los ticks menores\n",
    "ax.grid(which='minor', color='w', linestyle='-', linewidth=2)\n",
    "\n",
    "plt.xticks([])\n",
    "plt.yticks([])"
   ]
  },
  {
   "cell_type": "code",
   "execution_count": 190,
   "metadata": {},
   "outputs": [
    {
     "data": {
      "text/plain": [
       "Text(0.5, 1.0, 'Inmigración nacional de paises SudAmericanos 2010')"
      ]
     },
     "execution_count": 190,
     "metadata": {},
     "output_type": "execute_result"
    },
    {
     "data": {
      "text/plain": [
       "<Figure size 640x480 with 0 Axes>"
      ]
     },
     "metadata": {},
     "output_type": "display_data"
    },
    {
     "data": {
      "image/png": "[encoded data removed]",
      "text/plain": [
       "<Figure size 1600x400 with 2 Axes>"
      ]
     },
     "metadata": {},
     "output_type": "display_data"
    }
   ],
   "source": [
    "\n",
    "fig = plt.figure()\n",
    "\n",
    "colormap = plt.cm.coolwarm\n",
    "plt.matshow(waffle_chart, cmap=colormap)\n",
    "plt.colorbar()\n",
    "\n",
    "ax = plt.gca()\n",
    "\n",
    "ax.set_xticks(np.arange(-.5, (width), 1), minor=True)\n",
    "ax.set_yticks(np.arange(-.5, (height), 1), minor=True)\n",
    "    \n",
    "ax.grid(which='minor', color='w', linestyle='-', linewidth=2)\n",
    "\n",
    "plt.xticks([])\n",
    "plt.yticks([])\n",
    "    \n",
    "# se crea leyenda\n",
    "legend_handles = []\n",
    "for i, category in enumerate(filtered_data.index.values):\n",
    "    label_str = category + ' (' + str(filtered_data[2010][i]) + ')'\n",
    "    color_val = colormap(float(i)/(filtered_data.shape[0]-1))\n",
    "    legend_handles.append(mpatches.Patch(color=color_val, label=label_str))\n",
    "\n",
    "# se añade leyenda\n",
    "plt.legend(handles=legend_handles,\n",
    "           loc='lower center', \n",
    "           ncol=len(filtered_data.index.values),\n",
    "           bbox_to_anchor=(0, -0.2, 0.95, .1)\n",
    "          )\n",
    "\n",
    "plt.title('Inmigración nacional de paises SudAmericanos 2010')"
   ]
  }
 ],
 "metadata": {
  "kernelspec": {
   "display_name": "Python 3",
   "language": "python",
   "name": "python3"
  },
  "language_info": {
   "codemirror_mode": {
    "name": "ipython",
    "version": 3
   },
   "file_extension": ".py",
   "mimetype": "text/x-python",
   "name": "python",
   "nbconvert_exporter": "python",
   "pygments_lexer": "ipython3",
   "version": "3.10.10"
  },
  "orig_nbformat": 4
 },
 "nbformat": 4,
 "nbformat_minor": 2
}
